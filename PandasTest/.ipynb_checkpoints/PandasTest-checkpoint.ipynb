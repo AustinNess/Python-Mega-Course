{
 "cells": [
  {
   "cell_type": "code",
   "execution_count": 1,
   "metadata": {
    "collapsed": false
   },
   "outputs": [
    {
     "name": "stdout",
     "output_type": "stream",
     "text": [
      "   ID          Address            City             State Country  \\\n",
      "0   1     3666 21st St   San Francisco          CA 94114     USA   \n",
      "1   2   735 Dolores St   San Francisco          CA 94119     USA   \n",
      "2   3      332 Hill St   San Francisco  California 94114     USA   \n",
      "3   4     3995 23rd St   San Francisco          CA 94114     USA   \n",
      "4   5  1056 Sanchez St   San Francisco        California     USA   \n",
      "5   6  551 Alvarado St   San Francisco          CA 94114     USA   \n",
      "\n",
      "           Name  Employees  \n",
      "0       Madeira          8  \n",
      "1   Bready Shop         15  \n",
      "2   Super River         25  \n",
      "3    Ben's Shop         10  \n",
      "4       Sanchez         12  \n",
      "5    Richvalley         20  \n"
     ]
    }
   ],
   "source": [
    "import pandas;\n",
    "df = pandas.read_csv(\"supermarkets/supermarkets.csv\")\n",
    "print(df)"
   ]
  }
 ],
 "metadata": {
  "kernelspec": {
   "display_name": "Python 3",
   "language": "python",
   "name": "python3"
  },
  "language_info": {
   "codemirror_mode": {
    "name": "ipython",
    "version": 3
   },
   "file_extension": ".py",
   "mimetype": "text/x-python",
   "name": "python",
   "nbconvert_exporter": "python",
   "pygments_lexer": "ipython3",
   "version": "3.5.1"
  }
 },
 "nbformat": 4,
 "nbformat_minor": 0
}
